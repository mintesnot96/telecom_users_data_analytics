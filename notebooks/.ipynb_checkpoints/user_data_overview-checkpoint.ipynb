{
 "cells": [
  {
   "cell_type": "markdown",
   "id": "29fba119-c83d-44d2-8643-3b47b1d34323",
   "metadata": {},
   "source": [
    "<h1> TeleCo Customers Data Exploration</h1>"
   ]
  },
  {
   "cell_type": "markdown",
   "id": "4734a508-98d1-4b79-b2f1-d7afb6799e13",
   "metadata": {},
   "source": [
    "<h2> Imporing data and packages </h2>"
   ]
  },
  {
   "cell_type": "markdown",
   "id": "1a0b96ed-5f95-4f47-8f05-813ff43ca79a",
   "metadata": {},
   "source": [
    "Importing essential libraries"
   ]
  },
  {
   "cell_type": "code",
   "execution_count": 1,
   "id": "2a68d393-239a-4d94-9ca2-dc96548a17d4",
   "metadata": {},
   "outputs": [],
   "source": [
    "import pandas as pd\n",
    "import numpy as np\n",
    "import os\n",
    "import warnings\n",
    "from pandasql import sqldf\n",
    "import matplotlib.pyplot as plt\n",
    "import seaborn as sns\n",
    "import sys"
   ]
  },
  {
   "cell_type": "markdown",
   "id": "0eab41f4-4c7a-4073-9ace-1cd02973761e",
   "metadata": {},
   "source": [
    "Suppressing warning messages"
   ]
  },
  {
   "cell_type": "code",
   "execution_count": 2,
   "id": "3aa6ed25-930f-4d5e-924b-7e1906cf4dd8",
   "metadata": {},
   "outputs": [],
   "source": [
    "warnings.filterwarnings('ignore')"
   ]
  },
  {
   "cell_type": "markdown",
   "id": "4057d7c4-35ce-4c62-a44d-0cb259cdda9b",
   "metadata": {},
   "source": [
    "Setting file paths"
   ]
  },
  {
   "cell_type": "code",
   "execution_count": 3,
   "id": "f126e2c4-55fd-4db1-93b9-4eb71a752ee7",
   "metadata": {},
   "outputs": [],
   "source": [
    "parent_dir = os.path.abspath(os.path.join(os.getcwd(), os.pardir)) # setting path to parent directory\n",
    "scripts_dir = os.path.join(parent_dir,\"scripts\") # setting path to scripts directory\n",
    "data_path = os.path.join(parent_dir,\"data\",\"teleco_clean_data.csv\") # setting path to data directory\n",
    "\n",
    "sys.path.insert(1, scripts_dir)"
   ]
  },
  {
   "cell_type": "markdown",
   "id": "ce105ff0-13a7-4acb-a0ec-18e71f3ed28b",
   "metadata": {},
   "source": [
    "Importing data cleaning and summarizing scripts"
   ]
  },
  {
   "cell_type": "code",
   "execution_count": 4,
   "id": "b2c7feba-b67a-45a3-98ae-551876e4f891",
   "metadata": {},
   "outputs": [],
   "source": [
    "from data_cleaning_functions import DataCleaner as Cleaner \n",
    "from data_summarizing_functions import DataSummarizer as Sumar\n",
    "\n",
    "cleaner = Cleaner()\n",
    "sumar = Sumar()"
   ]
  },
  {
   "cell_type": "markdown",
   "id": "a24f2a6f-a090-4d44-9829-aca278b967b3",
   "metadata": {},
   "source": [
    "Loading the data"
   ]
  },
  {
   "cell_type": "code",
   "execution_count": 5,
   "id": "e6ca0223-7227-4cac-bf5f-932f21e878f8",
   "metadata": {},
   "outputs": [],
   "source": [
    "clean_df = pd.read_csv(data_path)"
   ]
  },
  {
   "cell_type": "markdown",
   "id": "46b9655f-d5f3-4051-91b9-4b0db2d3b3ad",
   "metadata": {},
   "source": [
    "<h2>Univariate Analysis</h2>"
   ]
  },
  {
   "cell_type": "markdown",
   "id": "d51203ea-ad7a-47a5-852d-dbe8cda0367e",
   "metadata": {},
   "source": [
    "**SQL query based functions to explore handsets and their manufacturers**"
   ]
  },
  {
   "cell_type": "markdown",
   "id": "4fb5cda2-57ca-4b88-a88e-b9619099d3f6",
   "metadata": {},
   "source": [
    "What are the top 10 handsets used by customers?"
   ]
  },
  {
   "cell_type": "code",
   "execution_count": 6,
   "id": "85b2c9bf-f7a8-4913-9105-a5e7ea9c7425",
   "metadata": {},
   "outputs": [
    {
     "data": {
      "text/html": [
       "<div>\n",
       "<style scoped>\n",
       "    .dataframe tbody tr th:only-of-type {\n",
       "        vertical-align: middle;\n",
       "    }\n",
       "\n",
       "    .dataframe tbody tr th {\n",
       "        vertical-align: top;\n",
       "    }\n",
       "\n",
       "    .dataframe thead th {\n",
       "        text-align: right;\n",
       "    }\n",
       "</style>\n",
       "<table border=\"1\" class=\"dataframe\">\n",
       "  <thead>\n",
       "    <tr style=\"text-align: right;\">\n",
       "      <th></th>\n",
       "      <th>Handset Type</th>\n",
       "      <th>user_count</th>\n",
       "    </tr>\n",
       "  </thead>\n",
       "  <tbody>\n",
       "    <tr>\n",
       "      <th>0</th>\n",
       "      <td>Huawei B528S-23A</td>\n",
       "      <td>20324</td>\n",
       "    </tr>\n",
       "    <tr>\n",
       "      <th>1</th>\n",
       "      <td>Apple iPhone 6S (A1688)</td>\n",
       "      <td>9419</td>\n",
       "    </tr>\n",
       "    <tr>\n",
       "      <th>2</th>\n",
       "      <td>Apple iPhone 6 (A1586)</td>\n",
       "      <td>9023</td>\n",
       "    </tr>\n",
       "    <tr>\n",
       "      <th>3</th>\n",
       "      <td>Apple iPhone 7 (A1778)</td>\n",
       "      <td>6326</td>\n",
       "    </tr>\n",
       "    <tr>\n",
       "      <th>4</th>\n",
       "      <td>Apple iPhone Se (A1723)</td>\n",
       "      <td>5187</td>\n",
       "    </tr>\n",
       "    <tr>\n",
       "      <th>5</th>\n",
       "      <td>Apple iPhone 8 (A1905)</td>\n",
       "      <td>4993</td>\n",
       "    </tr>\n",
       "    <tr>\n",
       "      <th>6</th>\n",
       "      <td>Apple iPhone Xr (A2105)</td>\n",
       "      <td>4568</td>\n",
       "    </tr>\n",
       "    <tr>\n",
       "      <th>7</th>\n",
       "      <td>Samsung Galaxy S8 (Sm-G950F)</td>\n",
       "      <td>4520</td>\n",
       "    </tr>\n",
       "    <tr>\n",
       "      <th>8</th>\n",
       "      <td>Apple iPhone X (A1901)</td>\n",
       "      <td>3813</td>\n",
       "    </tr>\n",
       "    <tr>\n",
       "      <th>9</th>\n",
       "      <td>Samsung Galaxy A5 Sm-A520F</td>\n",
       "      <td>3724</td>\n",
       "    </tr>\n",
       "  </tbody>\n",
       "</table>\n",
       "</div>"
      ],
      "text/plain": [
       "                   Handset Type  user_count\n",
       "0              Huawei B528S-23A       20324\n",
       "1       Apple iPhone 6S (A1688)        9419\n",
       "2        Apple iPhone 6 (A1586)        9023\n",
       "3        Apple iPhone 7 (A1778)        6326\n",
       "4       Apple iPhone Se (A1723)        5187\n",
       "5        Apple iPhone 8 (A1905)        4993\n",
       "6       Apple iPhone Xr (A2105)        4568\n",
       "7  Samsung Galaxy S8 (Sm-G950F)        4520\n",
       "8        Apple iPhone X (A1901)        3813\n",
       "9    Samsung Galaxy A5 Sm-A520F        3724"
      ]
     },
     "execution_count": 6,
     "metadata": {},
     "output_type": "execute_result"
    }
   ],
   "source": [
    "handsets_df = sumar.get_top_n(\"clean_df\", \"Handset Type\", 10, globals())\n",
    "handsets_df"
   ]
  },
  {
   "cell_type": "markdown",
   "id": "5c0abd67-8fab-4a48-adc4-b7fa3569a807",
   "metadata": {},
   "source": [
    "What are the top 3 handset manufacturers?"
   ]
  },
  {
   "cell_type": "code",
   "execution_count": 7,
   "id": "887ec498-43f5-4d84-8697-681fd98ebacb",
   "metadata": {},
   "outputs": [
    {
     "data": {
      "image/png": "[encoded data removed]",
      "text/plain": [
       "<Figure size 720x504 with 1 Axes>"
      ]
     },
     "metadata": {},
     "output_type": "display_data"
    }
   ],
   "source": [
    "sumar.plot_pie(handsets_df, ['Handset Type','user_count'], \"The top 10 handset used by customers\")"
   ]
  },
  {
   "cell_type": "code",
   "execution_count": 8,
   "id": "bb00ea51-c401-41a4-98e9-b0a7d987c4e6",
   "metadata": {},
   "outputs": [
    {
     "data": {
      "text/html": [
       "<div>\n",
       "<style scoped>\n",
       "    .dataframe tbody tr th:only-of-type {\n",
       "        vertical-align: middle;\n",
       "    }\n",
       "\n",
       "    .dataframe tbody tr th {\n",
       "        vertical-align: top;\n",
       "    }\n",
       "\n",
       "    .dataframe thead th {\n",
       "        text-align: right;\n",
       "    }\n",
       "</style>\n",
       "<table border=\"1\" class=\"dataframe\">\n",
       "  <thead>\n",
       "    <tr style=\"text-align: right;\">\n",
       "      <th></th>\n",
       "      <th>Handset Manufacturer</th>\n",
       "      <th>user_count</th>\n",
       "    </tr>\n",
       "  </thead>\n",
       "  <tbody>\n",
       "    <tr>\n",
       "      <th>0</th>\n",
       "      <td>Apple</td>\n",
       "      <td>60137</td>\n",
       "    </tr>\n",
       "    <tr>\n",
       "      <th>1</th>\n",
       "      <td>Samsung</td>\n",
       "      <td>40839</td>\n",
       "    </tr>\n",
       "    <tr>\n",
       "      <th>2</th>\n",
       "      <td>Huawei</td>\n",
       "      <td>34423</td>\n",
       "    </tr>\n",
       "  </tbody>\n",
       "</table>\n",
       "</div>"
      ],
      "text/plain": [
       "  Handset Manufacturer  user_count\n",
       "0                Apple       60137\n",
       "1              Samsung       40839\n",
       "2               Huawei       34423"
      ]
     },
     "execution_count": 8,
     "metadata": {},
     "output_type": "execute_result"
    }
   ],
   "source": [
    "top_man = sumar.get_top_n(\"clean_df\", \"Handset Manufacturer\", 3, globals())\n",
    "top_man"
   ]
  },
  {
   "cell_type": "code",
   "execution_count": 9,
   "id": "89e08243-8b04-4940-b76a-8c148eb0c259",
   "metadata": {},
   "outputs": [
    {
     "data": {
      "image/png": "[encoded data removed]",
      "text/plain": [
       "<Figure size 720x504 with 1 Axes>"
      ]
     },
     "metadata": {},
     "output_type": "display_data"
    }
   ],
   "source": [
    "sumar.plot_pie(top_man, ['Handset Manufacturer','user_count'], \"The top 3 handset manufacturers\")"
   ]
  },
  {
   "cell_type": "markdown",
   "id": "39b5cfe9-3ec9-4fc4-aaea-6de57f1dc315",
   "metadata": {},
   "source": [
    "What are the top 5 Handsets per the top 3 handset manufacturers"
   ]
  },
  {
   "cell_type": "code",
   "execution_count": 10,
   "id": "989e9781-3c3d-41b9-ad07-2bb3a6274123",
   "metadata": {},
   "outputs": [
    {
     "name": "stdout",
     "output_type": "stream",
     "text": [
      "  Handset Manufacturer             Handset Type  num_users\n",
      "0                Apple  Apple iPhone 6S (A1688)       9419\n",
      "1                Apple   Apple iPhone 6 (A1586)       9023\n",
      "2                Apple   Apple iPhone 7 (A1778)       6326\n",
      "3                Apple  Apple iPhone Se (A1723)       5187\n",
      "4                Apple   Apple iPhone 8 (A1905)       4993 \n",
      "\n",
      "  Handset Manufacturer                  Handset Type  num_users\n",
      "0              Samsung  Samsung Galaxy S8 (Sm-G950F)       4520\n",
      "1              Samsung    Samsung Galaxy A5 Sm-A520F       3724\n",
      "2              Samsung   Samsung Galaxy J5 (Sm-J530)       3696\n",
      "3              Samsung   Samsung Galaxy J3 (Sm-J330)       3484\n",
      "4              Samsung  Samsung Galaxy S7 (Sm-G930X)       3199 \n",
      "\n",
      "  Handset Manufacturer                    Handset Type  num_users\n",
      "0               Huawei                Huawei B528S-23A      19752\n",
      "1               Huawei                    Huawei E5180       2079\n",
      "2               Huawei  Huawei P20 Lite Huawei Nova 3E       2021\n",
      "3               Huawei                      Huawei P20       1480\n",
      "4               Huawei                  Huawei Y6 2018        997 \n",
      "\n"
     ]
    }
   ],
   "source": [
    "sumar.manByHandset(top_man[\"Handset Manufacturer\"].to_list(),'clean_df', globals())"
   ]
  },
  {
   "cell_type": "markdown",
   "id": "0bd7ffaa-5a7a-4c9a-87e1-6a0a06b19453",
   "metadata": {},
   "source": [
    "**Observation**\n",
    "<ul>\n",
    "<li> The most used handset type is Huawei B528S-23A </li>\n",
    "<li> But most of the handsets used are manufactured by Apple </li>\n",
    "<li> From among the top three manufacturers, Apple iPhone 6S, Samsung Galaxy S8 (Sm-G950F), and Huawei B528S-23A are \n",
    "the most used handsets</li>\n",
    "\n",
    "</ul>"
   ]
  },
  {
   "cell_type": "markdown",
   "id": "721b45e5-569a-4efd-8eca-27a792b36076",
   "metadata": {},
   "source": [
    "<h3> Aggregating the data for further exploration </h3>"
   ]
  },
  {
   "cell_type": "code",
   "execution_count": 11,
   "id": "da87718f-0634-4e6d-8bc2-91c56b611a01",
   "metadata": {},
   "outputs": [],
   "source": [
    "grouping_lis = [\"MSISDN/Number\"]\n",
    "aggr_lis = [\"Bearer Id\",\"Dur. (S)\", \"Handset Type\", \"Avg RTT DL (S)\", \n",
    "            \"Avg RTT UL (S)\", \"Avg Bearer TP DL (kbps)\", \"Avg Bearer TP UL (kbps)\", \n",
    "            \"TCP DL Retrans. Vol (MB)\", \"TCP UL Retrans. Vol (MB)\",\"Total DL (MB)\",\n",
    "            \"Total UL (MB)\", \"Social Media DL (MB)\", \"Social Media UL (MB)\",\n",
    "            \"Youtube DL (MB)\", \"Youtube UL (MB)\", \"Netflix DL (MB)\", \"Netflix UL (MB)\",\n",
    "            \"Google DL (MB)\", \"Google UL (MB)\",\"Gaming DL (MB)\",\"Gaming UL (MB)\", \n",
    "            \"Email DL (MB)\", \"Email UL (MB)\", \"Other DL (MB)\", \"Other UL (MB)\"] \n",
    "\n",
    "metric_lis = [\"count\", \"sum\", pd.Series.mode, \"sum\",\"sum\", \"sum\", \"sum\", \"sum\", \"sum\",\n",
    "              \"sum\", \"sum\", \"sum\", \"sum\", \"sum\",\"sum\", \"sum\",\"sum\", \"sum\",\"sum\", \"sum\",\n",
    "              \"sum\",\"sum\", \"sum\", \"sum\", \"sum\"]\n",
    "\n",
    "col_names = [\"xDr_session_count\", \"session_dur\", \"Handset\", \"RTT DL (S)\", \"RTT UL (S)\", \n",
    "             \"TP DL (kbps)\", \"TP UL (kbps)\", \"TCP DL Retrans (MB)\", \n",
    "             \"TCP UL Retrans (MB)\",\"Total_DL\", \"Total_UL\",\n",
    "             \"Social_DL\", \"Social_UL\",\"Youtube_DL\", \"Youtube_UL\", \"Netflix_DL\",\n",
    "             \"Netflix_UL\", \"Google_DL\", \"Google_UL\", \"Gaming_DL\", \"Gaming_UL\", \n",
    "             \"Email_DL\", \"Email_UL\", \"Other_DL\", \"Other_UL\"]\n",
    "\n",
    "\n",
    "aggr_df = sumar.find_agg(clean_df, grouping_lis, aggr_lis, metric_lis, col_names)\n",
    "             \n",
    "def extractHand(element):\n",
    "    if type(element) is np.ndarray:\n",
    "        return str(element[0])\n",
    "    else:\n",
    "        return element\n",
    "\n",
    "aggr_df['Handset'] = aggr_df.apply(lambda row : extractHand(row[\"Handset\"]), axis = 1)\n",
    "\n",
    "sumar.combineColumns(aggr_df, \"Total_DL\", \"Total_UL\", \"total_vol\")\n",
    "sumar.combineColumns(aggr_df, \"RTT DL (S)\", \"RTT UL (S)\", \"RTT total\", True)\n",
    "sumar.combineColumns(aggr_df, \"TP DL (kbps)\", \"TP UL (kbps)\", \"TP total\", True)\n",
    "sumar.combineColumns(aggr_df, \"TCP DL Retrans (MB)\", \"TCP UL Retrans (MB)\", \"TCP total\", True)\n",
    "sumar.combineColumns(aggr_df, \"Youtube_DL\", \"Youtube_UL\", \"youtube\", True)\n",
    "sumar.combineColumns(aggr_df, \"Netflix_DL\", \"Netflix_UL\", \"netflix\", True)\n",
    "sumar.combineColumns(aggr_df, \"Google_DL\", \"Google_UL\", \"google\", True)\n",
    "sumar.combineColumns(aggr_df, \"Gaming_DL\", \"Gaming_UL\", \"gaming\", True)\n",
    "sumar.combineColumns(aggr_df, \"Email_DL\", \"Email_UL\", \"email\", True)\n",
    "sumar.combineColumns(aggr_df, \"Social_DL\", \"Social_UL\", \"social\", True)\n",
    "sumar.combineColumns(aggr_df, \"Other_DL\", \"Other_UL\", \"other\", True)"
   ]
  },
  {
   "cell_type": "code",
   "execution_count": 12,
   "id": "144c0ad4-33af-4bfd-bd34-ef2701de9185",
   "metadata": {},
   "outputs": [
    {
     "data": {
      "text/html": [
       "<div>\n",
       "<style scoped>\n",
       "    .dataframe tbody tr th:only-of-type {\n",
       "        vertical-align: middle;\n",
       "    }\n",
       "\n",
       "    .dataframe tbody tr th {\n",
       "        vertical-align: top;\n",
       "    }\n",
       "\n",
       "    .dataframe thead th {\n",
       "        text-align: right;\n",
       "    }\n",
       "</style>\n",
       "<table border=\"1\" class=\"dataframe\">\n",
       "  <thead>\n",
       "    <tr style=\"text-align: right;\">\n",
       "      <th></th>\n",
       "      <th>MSISDN/Number</th>\n",
       "      <th>xDr_session_count</th>\n",
       "      <th>session_dur</th>\n",
       "      <th>Handset</th>\n",
       "      <th>Total_DL</th>\n",
       "      <th>Total_UL</th>\n",
       "      <th>total_vol</th>\n",
       "      <th>RTT total</th>\n",
       "      <th>TP total</th>\n",
       "      <th>TCP total</th>\n",
       "      <th>youtube</th>\n",
       "      <th>netflix</th>\n",
       "      <th>google</th>\n",
       "      <th>gaming</th>\n",
       "      <th>email</th>\n",
       "      <th>social</th>\n",
       "      <th>other</th>\n",
       "    </tr>\n",
       "  </thead>\n",
       "  <tbody>\n",
       "    <tr>\n",
       "      <th>0</th>\n",
       "      <td>3.360100e+10</td>\n",
       "      <td>1</td>\n",
       "      <td>116.720</td>\n",
       "      <td>Huawei P20 Lite Huawei Nova 3E</td>\n",
       "      <td>842.637466</td>\n",
       "      <td>36.053108</td>\n",
       "      <td>878.690574</td>\n",
       "      <td>0.046</td>\n",
       "      <td>76.0</td>\n",
       "      <td>0.040345</td>\n",
       "      <td>21.624548</td>\n",
       "      <td>27.180981</td>\n",
       "      <td>4.389005</td>\n",
       "      <td>812.458661</td>\n",
       "      <td>1.331362</td>\n",
       "      <td>2.232135</td>\n",
       "      <td>386.570872</td>\n",
       "    </tr>\n",
       "    <tr>\n",
       "      <th>1</th>\n",
       "      <td>3.360100e+10</td>\n",
       "      <td>1</td>\n",
       "      <td>181.230</td>\n",
       "      <td>Apple iPhone 7 (A1778)</td>\n",
       "      <td>120.755184</td>\n",
       "      <td>36.104459</td>\n",
       "      <td>156.859643</td>\n",
       "      <td>0.031</td>\n",
       "      <td>99.0</td>\n",
       "      <td>0.040345</td>\n",
       "      <td>12.432223</td>\n",
       "      <td>11.221763</td>\n",
       "      <td>5.334863</td>\n",
       "      <td>119.750078</td>\n",
       "      <td>3.307781</td>\n",
       "      <td>2.660565</td>\n",
       "      <td>281.710071</td>\n",
       "    </tr>\n",
       "    <tr>\n",
       "      <th>2</th>\n",
       "      <td>3.360100e+10</td>\n",
       "      <td>1</td>\n",
       "      <td>134.969</td>\n",
       "      <td>undefined</td>\n",
       "      <td>556.659663</td>\n",
       "      <td>39.306820</td>\n",
       "      <td>595.966483</td>\n",
       "      <td>0.050</td>\n",
       "      <td>97.0</td>\n",
       "      <td>0.040345</td>\n",
       "      <td>21.333570</td>\n",
       "      <td>19.353900</td>\n",
       "      <td>3.443126</td>\n",
       "      <td>538.827713</td>\n",
       "      <td>3.205380</td>\n",
       "      <td>3.195623</td>\n",
       "      <td>501.693672</td>\n",
       "    </tr>\n",
       "    <tr>\n",
       "      <th>3</th>\n",
       "      <td>3.360101e+10</td>\n",
       "      <td>1</td>\n",
       "      <td>49.878</td>\n",
       "      <td>Apple iPhone 5S (A1457)</td>\n",
       "      <td>401.993172</td>\n",
       "      <td>20.327526</td>\n",
       "      <td>422.320698</td>\n",
       "      <td>0.084</td>\n",
       "      <td>248.0</td>\n",
       "      <td>0.005760</td>\n",
       "      <td>6.977321</td>\n",
       "      <td>1.942092</td>\n",
       "      <td>9.678493</td>\n",
       "      <td>391.126127</td>\n",
       "      <td>2.284670</td>\n",
       "      <td>0.280294</td>\n",
       "      <td>35.279702</td>\n",
       "    </tr>\n",
       "    <tr>\n",
       "      <th>4</th>\n",
       "      <td>3.360101e+10</td>\n",
       "      <td>2</td>\n",
       "      <td>37.104</td>\n",
       "      <td>Apple iPhone Se (A1723)</td>\n",
       "      <td>1363.130417</td>\n",
       "      <td>94.280527</td>\n",
       "      <td>1457.410944</td>\n",
       "      <td>0.119</td>\n",
       "      <td>40489.0</td>\n",
       "      <td>0.080691</td>\n",
       "      <td>41.533002</td>\n",
       "      <td>49.201724</td>\n",
       "      <td>18.499616</td>\n",
       "      <td>1314.797820</td>\n",
       "      <td>3.305469</td>\n",
       "      <td>2.912542</td>\n",
       "      <td>804.804484</td>\n",
       "    </tr>\n",
       "  </tbody>\n",
       "</table>\n",
       "</div>"
      ],
      "text/plain": [
       "   MSISDN/Number  xDr_session_count  session_dur  \\\n",
       "0   3.360100e+10                  1      116.720   \n",
       "1   3.360100e+10                  1      181.230   \n",
       "2   3.360100e+10                  1      134.969   \n",
       "3   3.360101e+10                  1       49.878   \n",
       "4   3.360101e+10                  2       37.104   \n",
       "\n",
       "                          Handset     Total_DL   Total_UL    total_vol  \\\n",
       "0  Huawei P20 Lite Huawei Nova 3E   842.637466  36.053108   878.690574   \n",
       "1          Apple iPhone 7 (A1778)   120.755184  36.104459   156.859643   \n",
       "2                       undefined   556.659663  39.306820   595.966483   \n",
       "3         Apple iPhone 5S (A1457)   401.993172  20.327526   422.320698   \n",
       "4         Apple iPhone Se (A1723)  1363.130417  94.280527  1457.410944   \n",
       "\n",
       "   RTT total  TP total  TCP total    youtube    netflix     google  \\\n",
       "0      0.046      76.0   0.040345  21.624548  27.180981   4.389005   \n",
       "1      0.031      99.0   0.040345  12.432223  11.221763   5.334863   \n",
       "2      0.050      97.0   0.040345  21.333570  19.353900   3.443126   \n",
       "3      0.084     248.0   0.005760   6.977321   1.942092   9.678493   \n",
       "4      0.119   40489.0   0.080691  41.533002  49.201724  18.499616   \n",
       "\n",
       "        gaming     email    social       other  \n",
       "0   812.458661  1.331362  2.232135  386.570872  \n",
       "1   119.750078  3.307781  2.660565  281.710071  \n",
       "2   538.827713  3.205380  3.195623  501.693672  \n",
       "3   391.126127  2.284670  0.280294   35.279702  \n",
       "4  1314.797820  3.305469  2.912542  804.804484  "
      ]
     },
     "execution_count": 12,
     "metadata": {},
     "output_type": "execute_result"
    }
   ],
   "source": [
    "aggr_df.head()"
   ]
  },
  {
   "cell_type": "code",
   "execution_count": 13,
   "id": "fbfc721b-2407-4c15-b1f7-ef64ea696efa",
   "metadata": {},
   "outputs": [
    {
     "data": {
      "text/html": [
       "<div>\n",
       "<style scoped>\n",
       "    .dataframe tbody tr th:only-of-type {\n",
       "        vertical-align: middle;\n",
       "    }\n",
       "\n",
       "    .dataframe tbody tr th {\n",
       "        vertical-align: top;\n",
       "    }\n",
       "\n",
       "    .dataframe thead th {\n",
       "        text-align: right;\n",
       "    }\n",
       "</style>\n",
       "<table border=\"1\" class=\"dataframe\">\n",
       "  <thead>\n",
       "    <tr style=\"text-align: right;\">\n",
       "      <th></th>\n",
       "      <th>variables</th>\n",
       "      <th>missing_count</th>\n",
       "      <th>missing_percent_(%)</th>\n",
       "      <th>data_type</th>\n",
       "      <th>unique_values</th>\n",
       "    </tr>\n",
       "  </thead>\n",
       "  <tbody>\n",
       "    <tr>\n",
       "      <th>0</th>\n",
       "      <td>MSISDN/Number</td>\n",
       "      <td>0</td>\n",
       "      <td>0.0</td>\n",
       "      <td>float64</td>\n",
       "      <td>106856</td>\n",
       "    </tr>\n",
       "    <tr>\n",
       "      <th>1</th>\n",
       "      <td>xDr_session_count</td>\n",
       "      <td>0</td>\n",
       "      <td>0.0</td>\n",
       "      <td>int64</td>\n",
       "      <td>18</td>\n",
       "    </tr>\n",
       "    <tr>\n",
       "      <th>2</th>\n",
       "      <td>session_dur</td>\n",
       "      <td>0</td>\n",
       "      <td>0.0</td>\n",
       "      <td>float64</td>\n",
       "      <td>74939</td>\n",
       "    </tr>\n",
       "    <tr>\n",
       "      <th>3</th>\n",
       "      <td>Handset</td>\n",
       "      <td>0</td>\n",
       "      <td>0.0</td>\n",
       "      <td>object</td>\n",
       "      <td>1394</td>\n",
       "    </tr>\n",
       "    <tr>\n",
       "      <th>4</th>\n",
       "      <td>Total_DL</td>\n",
       "      <td>0</td>\n",
       "      <td>0.0</td>\n",
       "      <td>float64</td>\n",
       "      <td>106852</td>\n",
       "    </tr>\n",
       "    <tr>\n",
       "      <th>5</th>\n",
       "      <td>Total_UL</td>\n",
       "      <td>0</td>\n",
       "      <td>0.0</td>\n",
       "      <td>float64</td>\n",
       "      <td>106717</td>\n",
       "    </tr>\n",
       "    <tr>\n",
       "      <th>6</th>\n",
       "      <td>total_vol</td>\n",
       "      <td>0</td>\n",
       "      <td>0.0</td>\n",
       "      <td>float64</td>\n",
       "      <td>106853</td>\n",
       "    </tr>\n",
       "    <tr>\n",
       "      <th>7</th>\n",
       "      <td>RTT total</td>\n",
       "      <td>0</td>\n",
       "      <td>0.0</td>\n",
       "      <td>float64</td>\n",
       "      <td>1046</td>\n",
       "    </tr>\n",
       "    <tr>\n",
       "      <th>8</th>\n",
       "      <td>TP total</td>\n",
       "      <td>0</td>\n",
       "      <td>0.0</td>\n",
       "      <td>float64</td>\n",
       "      <td>28856</td>\n",
       "    </tr>\n",
       "    <tr>\n",
       "      <th>9</th>\n",
       "      <td>TCP total</td>\n",
       "      <td>0</td>\n",
       "      <td>0.0</td>\n",
       "      <td>float64</td>\n",
       "      <td>30153</td>\n",
       "    </tr>\n",
       "    <tr>\n",
       "      <th>10</th>\n",
       "      <td>youtube</td>\n",
       "      <td>0</td>\n",
       "      <td>0.0</td>\n",
       "      <td>float64</td>\n",
       "      <td>106762</td>\n",
       "    </tr>\n",
       "    <tr>\n",
       "      <th>11</th>\n",
       "      <td>netflix</td>\n",
       "      <td>0</td>\n",
       "      <td>0.0</td>\n",
       "      <td>float64</td>\n",
       "      <td>106764</td>\n",
       "    </tr>\n",
       "    <tr>\n",
       "      <th>12</th>\n",
       "      <td>google</td>\n",
       "      <td>0</td>\n",
       "      <td>0.0</td>\n",
       "      <td>float64</td>\n",
       "      <td>106636</td>\n",
       "    </tr>\n",
       "    <tr>\n",
       "      <th>13</th>\n",
       "      <td>gaming</td>\n",
       "      <td>0</td>\n",
       "      <td>0.0</td>\n",
       "      <td>float64</td>\n",
       "      <td>106854</td>\n",
       "    </tr>\n",
       "    <tr>\n",
       "      <th>14</th>\n",
       "      <td>email</td>\n",
       "      <td>0</td>\n",
       "      <td>0.0</td>\n",
       "      <td>float64</td>\n",
       "      <td>106138</td>\n",
       "    </tr>\n",
       "    <tr>\n",
       "      <th>15</th>\n",
       "      <td>social</td>\n",
       "      <td>0</td>\n",
       "      <td>0.0</td>\n",
       "      <td>float64</td>\n",
       "      <td>106137</td>\n",
       "    </tr>\n",
       "    <tr>\n",
       "      <th>16</th>\n",
       "      <td>other</td>\n",
       "      <td>0</td>\n",
       "      <td>0.0</td>\n",
       "      <td>float64</td>\n",
       "      <td>106852</td>\n",
       "    </tr>\n",
       "  </tbody>\n",
       "</table>\n",
       "</div>"
      ],
      "text/plain": [
       "            variables  missing_count  missing_percent_(%) data_type  \\\n",
       "0       MSISDN/Number              0                  0.0   float64   \n",
       "1   xDr_session_count              0                  0.0     int64   \n",
       "2         session_dur              0                  0.0   float64   \n",
       "3             Handset              0                  0.0    object   \n",
       "4            Total_DL              0                  0.0   float64   \n",
       "5            Total_UL              0                  0.0   float64   \n",
       "6           total_vol              0                  0.0   float64   \n",
       "7           RTT total              0                  0.0   float64   \n",
       "8            TP total              0                  0.0   float64   \n",
       "9           TCP total              0                  0.0   float64   \n",
       "10            youtube              0                  0.0   float64   \n",
       "11            netflix              0                  0.0   float64   \n",
       "12             google              0                  0.0   float64   \n",
       "13             gaming              0                  0.0   float64   \n",
       "14              email              0                  0.0   float64   \n",
       "15             social              0                  0.0   float64   \n",
       "16              other              0                  0.0   float64   \n",
       "\n",
       "    unique_values  \n",
       "0          106856  \n",
       "1              18  \n",
       "2           74939  \n",
       "3            1394  \n",
       "4          106852  \n",
       "5          106717  \n",
       "6          106853  \n",
       "7            1046  \n",
       "8           28856  \n",
       "9           30153  \n",
       "10         106762  \n",
       "11         106764  \n",
       "12         106636  \n",
       "13         106854  \n",
       "14         106138  \n",
       "15         106137  \n",
       "16         106852  "
      ]
     },
     "execution_count": 13,
     "metadata": {},
     "output_type": "execute_result"
    }
   ],
   "source": [
    "sumar.summ_columns(aggr_df)"
   ]
  },
  {
   "cell_type": "code",
   "execution_count": null,
   "id": "a97aea59-2efc-4313-a8ff-f4d42572016a",
   "metadata": {},
   "outputs": [],
   "source": []
  },
  {
   "cell_type": "markdown",
   "id": "e7d56135-4649-4fa9-bed2-a2aaa2d8b24f",
   "metadata": {},
   "source": [
    "Basic summary of the aggregated dataframe."
   ]
  },
  {
   "cell_type": "code",
   "execution_count": 14,
   "id": "89f3a29e-4700-493e-8721-39aa19bb5f35",
   "metadata": {},
   "outputs": [
    {
     "data": {
      "text/html": [
       "<div>\n",
       "<style scoped>\n",
       "    .dataframe tbody tr th:only-of-type {\n",
       "        vertical-align: middle;\n",
       "    }\n",
       "\n",
       "    .dataframe tbody tr th {\n",
       "        vertical-align: top;\n",
       "    }\n",
       "\n",
       "    .dataframe thead th {\n",
       "        text-align: right;\n",
       "    }\n",
       "</style>\n",
       "<table border=\"1\" class=\"dataframe\">\n",
       "  <thead>\n",
       "    <tr style=\"text-align: right;\">\n",
       "      <th></th>\n",
       "      <th>MSISDN/Number</th>\n",
       "      <th>xDr_session_count</th>\n",
       "      <th>session_dur</th>\n",
       "      <th>Total_DL</th>\n",
       "      <th>Total_UL</th>\n",
       "      <th>total_vol</th>\n",
       "      <th>RTT total</th>\n",
       "      <th>TP total</th>\n",
       "      <th>TCP total</th>\n",
       "      <th>youtube</th>\n",
       "      <th>netflix</th>\n",
       "      <th>google</th>\n",
       "      <th>gaming</th>\n",
       "      <th>email</th>\n",
       "      <th>social</th>\n",
       "      <th>other</th>\n",
       "    </tr>\n",
       "  </thead>\n",
       "  <tbody>\n",
       "    <tr>\n",
       "      <th>count</th>\n",
       "      <td>1.068560e+05</td>\n",
       "      <td>106856.000000</td>\n",
       "      <td>106856.000000</td>\n",
       "      <td>106856.000000</td>\n",
       "      <td>106856.000000</td>\n",
       "      <td>106856.000000</td>\n",
       "      <td>106856.000000</td>\n",
       "      <td>106856.000000</td>\n",
       "      <td>106856.000000</td>\n",
       "      <td>106856.000000</td>\n",
       "      <td>106856.000000</td>\n",
       "      <td>106856.000000</td>\n",
       "      <td>106856.000000</td>\n",
       "      <td>106856.000000</td>\n",
       "      <td>106856.000000</td>\n",
       "      <td>106856.000000</td>\n",
       "    </tr>\n",
       "    <tr>\n",
       "      <th>mean</th>\n",
       "      <td>4.511474e+10</td>\n",
       "      <td>1.389777</td>\n",
       "      <td>128.518045</td>\n",
       "      <td>633.652681</td>\n",
       "      <td>57.270714</td>\n",
       "      <td>690.923395</td>\n",
       "      <td>0.070369</td>\n",
       "      <td>9865.619656</td>\n",
       "      <td>0.078050</td>\n",
       "      <td>31.558399</td>\n",
       "      <td>31.538332</td>\n",
       "      <td>10.882434</td>\n",
       "      <td>599.769011</td>\n",
       "      <td>3.148796</td>\n",
       "      <td>2.547967</td>\n",
       "      <td>598.508764</td>\n",
       "    </tr>\n",
       "    <tr>\n",
       "      <th>std</th>\n",
       "      <td>2.889423e+12</td>\n",
       "      <td>0.809863</td>\n",
       "      <td>101.406963</td>\n",
       "      <td>464.555056</td>\n",
       "      <td>35.618931</td>\n",
       "      <td>491.035303</td>\n",
       "      <td>0.052233</td>\n",
       "      <td>20023.440180</td>\n",
       "      <td>0.104301</td>\n",
       "      <td>21.294918</td>\n",
       "      <td>21.289557</td>\n",
       "      <td>7.544861</td>\n",
       "      <td>449.150462</td>\n",
       "      <td>2.222400</td>\n",
       "      <td>1.908038</td>\n",
       "      <td>448.922110</td>\n",
       "    </tr>\n",
       "    <tr>\n",
       "      <th>min</th>\n",
       "      <td>3.360100e+10</td>\n",
       "      <td>0.000000</td>\n",
       "      <td>7.142000</td>\n",
       "      <td>8.827082</td>\n",
       "      <td>2.866892</td>\n",
       "      <td>33.249009</td>\n",
       "      <td>0.000000</td>\n",
       "      <td>0.000000</td>\n",
       "      <td>0.000097</td>\n",
       "      <td>0.078903</td>\n",
       "      <td>0.184569</td>\n",
       "      <td>0.040330</td>\n",
       "      <td>0.306358</td>\n",
       "      <td>0.018176</td>\n",
       "      <td>0.001563</td>\n",
       "      <td>0.149045</td>\n",
       "    </tr>\n",
       "    <tr>\n",
       "      <th>25%</th>\n",
       "      <td>3.365088e+10</td>\n",
       "      <td>1.000000</td>\n",
       "      <td>71.308000</td>\n",
       "      <td>314.827064</td>\n",
       "      <td>36.395475</td>\n",
       "      <td>358.531257</td>\n",
       "      <td>0.045000</td>\n",
       "      <td>97.000000</td>\n",
       "      <td>0.040345</td>\n",
       "      <td>18.631089</td>\n",
       "      <td>18.555973</td>\n",
       "      <td>5.942636</td>\n",
       "      <td>288.063112</td>\n",
       "      <td>1.674481</td>\n",
       "      <td>1.211281</td>\n",
       "      <td>285.559911</td>\n",
       "    </tr>\n",
       "    <tr>\n",
       "      <th>50%</th>\n",
       "      <td>3.366365e+10</td>\n",
       "      <td>1.000000</td>\n",
       "      <td>97.154000</td>\n",
       "      <td>570.367723</td>\n",
       "      <td>46.768909</td>\n",
       "      <td>617.911343</td>\n",
       "      <td>0.050000</td>\n",
       "      <td>204.000000</td>\n",
       "      <td>0.040345</td>\n",
       "      <td>26.800376</td>\n",
       "      <td>26.718889</td>\n",
       "      <td>9.586153</td>\n",
       "      <td>542.349207</td>\n",
       "      <td>2.799824</td>\n",
       "      <td>2.303756</td>\n",
       "      <td>539.832343</td>\n",
       "    </tr>\n",
       "    <tr>\n",
       "      <th>75%</th>\n",
       "      <td>3.368344e+10</td>\n",
       "      <td>2.000000</td>\n",
       "      <td>169.543000</td>\n",
       "      <td>807.364490</td>\n",
       "      <td>65.616360</td>\n",
       "      <td>857.377889</td>\n",
       "      <td>0.082000</td>\n",
       "      <td>11484.000000</td>\n",
       "      <td>0.080691</td>\n",
       "      <td>37.927976</td>\n",
       "      <td>37.976957</td>\n",
       "      <td>13.214740</td>\n",
       "      <td>777.304138</td>\n",
       "      <td>3.847198</td>\n",
       "      <td>3.307509</td>\n",
       "      <td>775.397531</td>\n",
       "    </tr>\n",
       "    <tr>\n",
       "      <th>max</th>\n",
       "      <td>8.823971e+14</td>\n",
       "      <td>18.000000</td>\n",
       "      <td>1905.478000</td>\n",
       "      <td>8156.743493</td>\n",
       "      <td>729.577380</td>\n",
       "      <td>8846.226494</td>\n",
       "      <td>0.991000</td>\n",
       "      <td>270523.000000</td>\n",
       "      <td>2.537905</td>\n",
       "      <td>452.958769</td>\n",
       "      <td>399.519079</td>\n",
       "      <td>152.191852</td>\n",
       "      <td>7749.432234</td>\n",
       "      <td>42.418782</td>\n",
       "      <td>43.374779</td>\n",
       "      <td>8167.877776</td>\n",
       "    </tr>\n",
       "  </tbody>\n",
       "</table>\n",
       "</div>"
      ],
      "text/plain": [
       "       MSISDN/Number  xDr_session_count    session_dur       Total_DL  \\\n",
       "count   1.068560e+05      106856.000000  106856.000000  106856.000000   \n",
       "mean    4.511474e+10           1.389777     128.518045     633.652681   \n",
       "std     2.889423e+12           0.809863     101.406963     464.555056   \n",
       "min     3.360100e+10           0.000000       7.142000       8.827082   \n",
       "25%     3.365088e+10           1.000000      71.308000     314.827064   \n",
       "50%     3.366365e+10           1.000000      97.154000     570.367723   \n",
       "75%     3.368344e+10           2.000000     169.543000     807.364490   \n",
       "max     8.823971e+14          18.000000    1905.478000    8156.743493   \n",
       "\n",
       "            Total_UL      total_vol      RTT total       TP total  \\\n",
       "count  106856.000000  106856.000000  106856.000000  106856.000000   \n",
       "mean       57.270714     690.923395       0.070369    9865.619656   \n",
       "std        35.618931     491.035303       0.052233   20023.440180   \n",
       "min         2.866892      33.249009       0.000000       0.000000   \n",
       "25%        36.395475     358.531257       0.045000      97.000000   \n",
       "50%        46.768909     617.911343       0.050000     204.000000   \n",
       "75%        65.616360     857.377889       0.082000   11484.000000   \n",
       "max       729.577380    8846.226494       0.991000  270523.000000   \n",
       "\n",
       "           TCP total        youtube        netflix         google  \\\n",
       "count  106856.000000  106856.000000  106856.000000  106856.000000   \n",
       "mean        0.078050      31.558399      31.538332      10.882434   \n",
       "std         0.104301      21.294918      21.289557       7.544861   \n",
       "min         0.000097       0.078903       0.184569       0.040330   \n",
       "25%         0.040345      18.631089      18.555973       5.942636   \n",
       "50%         0.040345      26.800376      26.718889       9.586153   \n",
       "75%         0.080691      37.927976      37.976957      13.214740   \n",
       "max         2.537905     452.958769     399.519079     152.191852   \n",
       "\n",
       "              gaming          email         social          other  \n",
       "count  106856.000000  106856.000000  106856.000000  106856.000000  \n",
       "mean      599.769011       3.148796       2.547967     598.508764  \n",
       "std       449.150462       2.222400       1.908038     448.922110  \n",
       "min         0.306358       0.018176       0.001563       0.149045  \n",
       "25%       288.063112       1.674481       1.211281     285.559911  \n",
       "50%       542.349207       2.799824       2.303756     539.832343  \n",
       "75%       777.304138       3.847198       3.307509     775.397531  \n",
       "max      7749.432234      42.418782      43.374779    8167.877776  "
      ]
     },
     "execution_count": 14,
     "metadata": {},
     "output_type": "execute_result"
    }
   ],
   "source": [
    "aggr_df.describe()"
   ]
  },
  {
   "cell_type": "code",
   "execution_count": 15,
   "id": "47fe65e2-8efb-4f1c-9ad3-b06eddbb83e9",
   "metadata": {},
   "outputs": [
    {
     "data": {
      "text/plain": [
       "<AxesSubplot:>"
      ]
     },
     "execution_count": 15,
     "metadata": {},
     "output_type": "execute_result"
    },
    {
     "data": {
      "image/png": "[encoded data removed]",
      "text/plain": [
       "<Figure size 432x288 with 1 Axes>"
      ]
     },
     "metadata": {
      "needs_background": "light"
     },
     "output_type": "display_data"
    }
   ],
   "source": [
    "aggr_df[['youtube','gaming','email','netflix','social']].sum().sort_values(ascending = False).plot(kind='bar')"
   ]
  },
  {
   "cell_type": "markdown",
   "id": "11519cfe-6f8a-4d48-9d82-b0db139e7d21",
   "metadata": {},
   "source": [
    "Comparing the two applications with the smallest data volume share"
   ]
  },
  {
   "cell_type": "code",
   "execution_count": 16,
   "id": "c0eef777-dd12-4b80-a9e0-e3490f8154c2",
   "metadata": {},
   "outputs": [
    {
     "data": {
      "text/plain": [
       "<AxesSubplot:>"
      ]
     },
     "execution_count": 16,
     "metadata": {},
     "output_type": "execute_result"
    },
    {
     "data": {
      "image/png": "[encoded data removed]",
      "text/plain": [
       "<Figure size 432x288 with 1 Axes>"
      ]
     },
     "metadata": {
      "needs_background": "light"
     },
     "output_type": "display_data"
    }
   ],
   "source": [
    "aggr_df[['email','social']].sum().plot(kind='bar')"
   ]
  },
  {
   "cell_type": "code",
   "execution_count": 17,
   "id": "b08da278-0d82-4034-8a8f-d1950fc4fa23",
   "metadata": {},
   "outputs": [
    {
     "data": {
      "text/plain": [
       "<AxesSubplot:>"
      ]
     },
     "execution_count": 17,
     "metadata": {},
     "output_type": "execute_result"
    },
    {
     "data": {
      "image/png": "[encoded data removed]",
      "text/plain": [
       "<Figure size 432x288 with 1 Axes>"
      ]
     },
     "metadata": {
      "needs_background": "light"
     },
     "output_type": "display_data"
    }
   ],
   "source": [
    "aggr_df[['netflix','youtube']].sum().plot(kind='bar')"
   ]
  },
  {
   "cell_type": "markdown",
   "id": "d540defb-ee4a-4a28-a463-fe9fae5031f5",
   "metadata": {},
   "source": [
    "**Observation**\n",
    "<ul>\n",
    "    <li>The number of xDr sessions per user doesn’t vary significantly 75% of the users have xDr session count is equal to 1. The distribution for this feature is right skewed because the mean is greater than the median. The maximum xDr session count per user is 7.\n",
    "    </li>\n",
    "    <li>The total session durations per  user vary between 2 hours to more than 3 and a half days. And the majority of the sessions are below 2 days. The distribution for this variable is right skewed as well with an average value of a day and a half.</li>\n",
    "    <li>\n",
    "Regarding data volume, the majority of the users (75%) used below 900MB of data in the entire month. The maximum data volume is 4GB. The average data usage per user is 625MB.\n",
    "    </li>\n",
    "    <li>\n",
    "        The largest contributor to the total data usage is gaming. For the 75% of the users 742 MB of data (90% of their total data usage in the month) comes from gaming.</li>\n",
    "    <li>\n",
    "Youtube and netflix applications used almost equal volume of data.\n",
    "    </li>\n",
    "    <li>\n",
    "social media applications used the least amount of data in the month compared to the other applications. \n",
    "    </li>\n",
    "    <li>\n",
    "        The average data usage per user in the month was just 2.6 MB.\n",
    "    </li>\n",
    "    <li>\n",
    "Customers data volume primarily comes from downloading than uploading as shown in the table. The average download size is 572 MB, while the average upload is 52 MB.\n",
    "\n",
    "    \n",
    "    \n",
    "    \n",
    "\n",
    "</ul>"
   ]
  },
  {
   "cell_type": "code",
   "execution_count": 18,
   "id": "02d9b8a2-c2d8-4819-bdba-cd05ed4041ab",
   "metadata": {},
   "outputs": [
    {
     "data": {
      "text/plain": [
       "Text(0.5, 1.0, 'Distribution of session duration ')"
      ]
     },
     "execution_count": 18,
     "metadata": {},
     "output_type": "execute_result"
    },
    {
     "data": {
      "image/png": "[encoded data removed]",
      "text/plain": [
       "<Figure size 432x288 with 1 Axes>"
      ]
     },
     "metadata": {
      "needs_background": "light"
     },
     "output_type": "display_data"
    }
   ],
   "source": [
    "plt.hist(aggr_df['session_dur'],bins=20, color='orange')\n",
    "plt.title(f'Distribution of session duration ', size=20, fontweight='bold')\n",
    "           "
   ]
  },
  {
   "cell_type": "code",
   "execution_count": null,
   "id": "5ccb5102-73bb-4224-9697-4963b7c7dcab",
   "metadata": {},
   "outputs": [],
   "source": []
  },
  {
   "cell_type": "code",
   "execution_count": null,
   "id": "916a7eac-85ee-4a1e-be90-5fe886c4a025",
   "metadata": {},
   "outputs": [
    {
     "data": {
      "text/plain": [
       "<Figure size 576x288 with 0 Axes>"
      ]
     },
     "metadata": {},
     "output_type": "display_data"
    },
    {
     "data": {
      "image/png": "[encoded data removed]",
      "text/plain": [
       "<Figure size 576x288 with 1 Axes>"
      ]
     },
     "metadata": {},
     "output_type": "display_data"
    },
    {
     "data": {
      "text/plain": [
       "<Figure size 576x288 with 0 Axes>"
      ]
     },
     "metadata": {},
     "output_type": "display_data"
    },
    {
     "data": {
      "image/png": "[encoded data removed]",
      "text/plain": [
       "<Figure size 576x288 with 1 Axes>"
      ]
     },
     "metadata": {},
     "output_type": "display_data"
    },
    {
     "data": {
      "text/plain": [
       "<Figure size 576x288 with 0 Axes>"
      ]
     },
     "metadata": {},
     "output_type": "display_data"
    },
    {
     "data": {
      "image/png": "[encoded data removed]",
      "text/plain": [
       "<Figure size 576x288 with 1 Axes>"
      ]
     },
     "metadata": {},
     "output_type": "display_data"
    },
    {
     "data": {
      "text/plain": [
       "<Figure size 576x288 with 0 Axes>"
      ]
     },
     "metadata": {},
     "output_type": "display_data"
    },
    {
     "data": {
      "image/png": "[encoded data removed]",
      "text/plain": [
       "<Figure size 576x288 with 1 Axes>"
      ]
     },
     "metadata": {},
     "output_type": "display_data"
    }
   ],
   "source": [
    "sumar.showDistribution(aggr_df, ['youtube', 'netflix', 'google', 'gaming', 'email', 'social'], ['green','yellow','purple','red','orange','black'])"
   ]
  },
  {
   "cell_type": "markdown",
   "id": "5da2f848-6f64-449c-9647-142ef47d9471",
   "metadata": {},
   "source": [
    "**Observation**\n",
    "<ul>\n",
    "    <li>Youtube data volume has a right skewed distribution. With mean of 28.5MB and median of 25.7MB </li>\n",
    "    <li>Google data volume has a normal looking distribution. With mean of 9.8 and median of 9.1MB </li>\n",
    "    <li>gaming data volume has a slightly right skewed distribution. With mean of 542MB and median of 516MB </li>\n",
    "    <li>email data volume has a normal looking distribution. With mean of 2.8MB and median of 2.6MB </li>\n",
    "    <li>social data volume has a slightly right skewed distribution. With mean of 2.3MB and median of 2.1MB  </li>\n",
    "    <li>netflix data volume has a slightly right skewed distribution. With mean of 28.5MB and median of 25.7MB \n",
    "\n",
    "\n",
    "\n",
    "    \n",
    "    \n",
    "    \n",
    "\n",
    "</ul>"
   ]
  },
  {
   "cell_type": "markdown",
   "id": "cbcb3940-e85a-4ae5-a7b7-0338a5cff853",
   "metadata": {},
   "source": [
    "<h2> Bivariate Analysis</h2>"
   ]
  },
  {
   "cell_type": "markdown",
   "id": "77f04527-f5bf-4be8-a99f-7752818761d2",
   "metadata": {},
   "source": [
    "plotting scatter plots and creating correlation matrixes to see relationships between variables."
   ]
  },
  {
   "cell_type": "code",
   "execution_count": null,
   "id": "8d05d40f-b5bd-4db5-97b6-8f5d1f67128d",
   "metadata": {},
   "outputs": [],
   "source": [
    "sumar.bivariateAnalysis(aggr_df, [['total_vol','gaming'],['total_vol','netflix'],['total_vol','youtube'],['total_vol','social'],['total_vol','email'],['total_vol','google']],['green','yellow','purple','red','orange','black'])"
   ]
  },
  {
   "cell_type": "markdown",
   "id": "17ede105-7783-4114-bcdf-84a8118f1dc0",
   "metadata": {},
   "source": [
    "**Observation**\n",
    "<ul>\n",
    "    <li>Gaming and total data volume have the highest positive correlation (0.996). Which supports the idea that data from gaming is the primary determiner of the total data volume. All the other applications have a positive correlation as well, but the correlation coefficients are below 0.55.\n",
    "\n",
    "\n",
    "    \n",
    "    \n",
    "    \n",
    "\n",
    "</ul>"
   ]
  },
  {
   "cell_type": "code",
   "execution_count": null,
   "id": "f7cb33ce-6381-403a-8f31-dda72124d5b4",
   "metadata": {},
   "outputs": [],
   "source": [
    "\n",
    "decile_df = sumar.topDecile(aggr_df, ['Decile'],\"session_dur\", ['session_dur','total_vol'], ['sum','sum'], ['duration','data_vol'], [5,9])\n",
    "decile_df"
   ]
  },
  {
   "cell_type": "code",
   "execution_count": null,
   "id": "281a5a4c-58d0-4566-970f-ec2511e42308",
   "metadata": {},
   "outputs": [],
   "source": [
    "sumar.plot_pie(decile_df, ['Decile','duration'], \"top 5 Deciles Duration Comparison\")"
   ]
  },
  {
   "cell_type": "code",
   "execution_count": null,
   "id": "60a12503-9150-4d79-b38b-0090a098b6b6",
   "metadata": {},
   "outputs": [],
   "source": [
    "sumar.plot_pie(decile_df, ['Decile','data_vol'], \"Top 5 Deciles Data Volume Share\")"
   ]
  },
  {
   "cell_type": "code",
   "execution_count": null,
   "id": "84400914-9231-44aa-baaa-f1ab85d27a83",
   "metadata": {},
   "outputs": [],
   "source": [
    "test_list = ['youtube', 'netflix', 'google', 'gaming', 'email', 'social', 'other']\n",
    "\n",
    "plt.style.use('fivethirtyeight')\n",
    "plt.figure(figsize=(8, 4)) \n",
    "dataplot = sns.heatmap(sumar.corrMatrix(aggr_df, test_list),\n",
    "                       cmap=\"YlGnBu\", annot=True)\n",
    "dataplot.set_title('Coorelation HeatMap',fontsize=16)  \n",
    "# displaying heatmap\n",
    "plt.show()"
   ]
  },
  {
   "cell_type": "markdown",
   "id": "124ea481-ab4c-40a8-98fe-246177a288a4",
   "metadata": {},
   "source": [
    "**Observations**\n",
    "<ul>\n",
    "    <li> Youtube and Netflix have the highest correlation: 0.57</li>\n",
    "    <li> Google have the same correlation with netflix and youtube: 0.54</li>\n",
    "</ul>"
   ]
  },
  {
   "cell_type": "code",
   "execution_count": null,
   "id": "8d499d33-61a7-4652-be7b-3d2f158dc32f",
   "metadata": {},
   "outputs": [],
   "source": [
    "save_data_path = os.path.join(parent_dir,\"data\",\"teleco_user-aggr_data.csv\") # setting path to data directory\n",
    "aggr_df.to_csv(save_data_path, index=False)"
   ]
  },
  {
   "cell_type": "code",
   "execution_count": null,
   "id": "5ba050e4-8fe7-4e9d-a2e2-94cf0e8c1eee",
   "metadata": {},
   "outputs": [],
   "source": []
  },
  {
   "cell_type": "code",
   "execution_count": null,
   "id": "ee941c14-92cc-4b6e-a6aa-336f1e29f0b5",
   "metadata": {},
   "outputs": [],
   "source": []
  }
 ],
 "metadata": {
  "kernelspec": {
   "display_name": "Python 3 (ipykernel)",
   "language": "python",
   "name": "python3"
  },
  "language_info": {
   "codemirror_mode": {
    "name": "ipython",
    "version": 3
   },
   "file_extension": ".py",
   "mimetype": "text/x-python",
   "name": "python",
   "nbconvert_exporter": "python",
   "pygments_lexer": "ipython3",
   "version": "3.9.7"
  }
 },
 "nbformat": 4,
 "nbformat_minor": 5
}
